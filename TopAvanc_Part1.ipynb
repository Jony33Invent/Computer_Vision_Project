{
  "nbformat": 4,
  "nbformat_minor": 0,
  "metadata": {
    "colab": {
      "provenance": []
    },
    "kernelspec": {
      "name": "python3",
      "display_name": "Python 3"
    },
    "language_info": {
      "name": "python"
    }
  },
  "cells": [
    {
      "cell_type": "markdown",
      "source": [
        "https://www.sciencedirect.com/science/article/pii/003132039190081F\n",
        "http://www.lps.usp.br/hae/apostila/convkeras-ead.pdf\n",
        "http://yann.lecun.com/exdb/mnist/"
      ],
      "metadata": {
        "id": "9i27bkndBQDz"
      }
    },
    {
      "cell_type": "markdown",
      "source": [
        "# **Importação de bibliotecas**"
      ],
      "metadata": {
        "id": "LZf3W0XGULge"
      }
    },
    {
      "cell_type": "code",
      "execution_count": null,
      "metadata": {
        "id": "FvGZpT3EwloI"
      },
      "outputs": [],
      "source": [
        "import tensorflow as tf\n",
        "import numpy as np\n",
        "import matplotlib.pyplot as plt"
      ]
    },
    {
      "cell_type": "markdown",
      "source": [
        "# **Importação e transformação dos dados**"
      ],
      "metadata": {
        "id": "uaYUd-3DUgnI"
      }
    },
    {
      "cell_type": "code",
      "source": [
        "(Xtrain, Ytrain), (Xtest, Ytest) = tf.keras.datasets.mnist.load_data()\n",
        "\n",
        "Xtrain, Xtest = Xtrain / 255.0, Xtest / 255.0 #Normalização das imagens\n",
        "Xtrain, Xtest = np.expand_dims(Xtrain,axis=3), np.expand_dims(Xtest,axis=3) #Readequação de dimensionalidade\n",
        "\n",
        "Xtrain = Xtrain\n",
        "Xtest = Xtest\n",
        "Ytrain = Ytrain\n",
        "Ytest = Ytest\n",
        "\n",
        "print('\\tTraining set shape: ', Xtrain.shape)\n",
        "print('\\tTesting set shape: ', Xtest.shape)"
      ],
      "metadata": {
        "colab": {
          "base_uri": "https://localhost:8080/"
        },
        "id": "N8ZZAMBfygPG",
        "outputId": "6c7dd0aa-8f8b-4ec1-e3a0-55d637d3dd90"
      },
      "execution_count": null,
      "outputs": [
        {
          "output_type": "stream",
          "name": "stdout",
          "text": [
            "\tTraining set shape:  (60000, 28, 28, 1)\n",
            "\tTesting set shape:  (10000, 28, 28, 1)\n"
          ]
        }
      ]
    },
    {
      "cell_type": "markdown",
      "source": [
        "# **Modelo da rede neural convolucional**"
      ],
      "metadata": {
        "id": "yPl_9a9oUlXM"
      }
    },
    {
      "cell_type": "code",
      "source": [
        "model = tf.keras.Sequential(\n",
        "    [\n",
        "        tf.keras.layers.Conv2D(32, (3, 3), activation='relu', input_shape=(28, 28, 1)),\n",
        "        tf.keras.layers.MaxPooling2D((2, 2)),\n",
        "        tf.keras.layers.Conv2D(64, (3, 3), activation='relu'),\n",
        "        tf.keras.layers.MaxPooling2D((2, 2)),\n",
        "        tf.keras.layers.Conv2D(64, (3, 3), activation='relu'),\n",
        "        tf.keras.layers.Flatten(),\n",
        "        tf.keras.layers.Dense(64, activation='relu'),\n",
        "        tf.keras.layers.Dropout(0.2),\n",
        "        tf.keras.layers.Dense(10, activation='softmax'),\n",
        "    ]\n",
        ")\n",
        "\n",
        "model.compile(optimizer='adam',\n",
        "              loss=tf.keras.losses.SparseCategoricalCrossentropy(from_logits=True),\n",
        "              metrics=['accuracy'])"
      ],
      "metadata": {
        "id": "18fvBLNUz-gt"
      },
      "execution_count": null,
      "outputs": []
    },
    {
      "cell_type": "code",
      "source": [
        "print(model.summary())"
      ],
      "metadata": {
        "colab": {
          "base_uri": "https://localhost:8080/"
        },
        "id": "4NHqr3MpG2AS",
        "outputId": "b2a4605c-12b4-458b-bb1e-c2bca33ad7c5"
      },
      "execution_count": null,
      "outputs": [
        {
          "output_type": "stream",
          "name": "stdout",
          "text": [
            "Model: \"sequential_2\"\n",
            "_________________________________________________________________\n",
            " Layer (type)                Output Shape              Param #   \n",
            "=================================================================\n",
            " conv2d_6 (Conv2D)           (None, 26, 26, 32)        320       \n",
            "                                                                 \n",
            " max_pooling2d_4 (MaxPooling  (None, 13, 13, 32)       0         \n",
            " 2D)                                                             \n",
            "                                                                 \n",
            " conv2d_7 (Conv2D)           (None, 11, 11, 64)        18496     \n",
            "                                                                 \n",
            " max_pooling2d_5 (MaxPooling  (None, 5, 5, 64)         0         \n",
            " 2D)                                                             \n",
            "                                                                 \n",
            " conv2d_8 (Conv2D)           (None, 3, 3, 64)          36928     \n",
            "                                                                 \n",
            " flatten_2 (Flatten)         (None, 576)               0         \n",
            "                                                                 \n",
            " dense_4 (Dense)             (None, 64)                36928     \n",
            "                                                                 \n",
            " dropout_2 (Dropout)         (None, 64)                0         \n",
            "                                                                 \n",
            " dense_5 (Dense)             (None, 10)                650       \n",
            "                                                                 \n",
            "=================================================================\n",
            "Total params: 93,322\n",
            "Trainable params: 93,322\n",
            "Non-trainable params: 0\n",
            "_________________________________________________________________\n",
            "None\n"
          ]
        }
      ]
    },
    {
      "cell_type": "markdown",
      "source": [],
      "metadata": {
        "id": "Bga_0WNzUxvL"
      }
    },
    {
      "cell_type": "markdown",
      "source": [
        "# **Treinamento**"
      ],
      "metadata": {
        "id": "hNZfrsl-UzrX"
      }
    },
    {
      "cell_type": "code",
      "source": [
        "history = model.fit(Xtrain, Ytrain, epochs=10, validation_data=(Xtest, Ytest))"
      ],
      "metadata": {
        "colab": {
          "base_uri": "https://localhost:8080/"
        },
        "id": "S30l00iuD1Hn",
        "outputId": "c82111f2-49fc-474c-d4b1-81a7b75805fb"
      },
      "execution_count": null,
      "outputs": [
        {
          "output_type": "stream",
          "name": "stdout",
          "text": [
            "Epoch 1/10\n"
          ]
        },
        {
          "output_type": "stream",
          "name": "stderr",
          "text": [
            "/usr/local/lib/python3.10/dist-packages/keras/backend.py:5612: UserWarning: \"`sparse_categorical_crossentropy` received `from_logits=True`, but the `output` argument was produced by a Softmax activation and thus does not represent logits. Was this intended?\n",
            "  output, from_logits = _get_logits(\n"
          ]
        },
        {
          "output_type": "stream",
          "name": "stdout",
          "text": [
            "1875/1875 [==============================] - 99s 52ms/step - loss: 0.1757 - accuracy: 0.9459 - val_loss: 0.0400 - val_accuracy: 0.9868\n",
            "Epoch 2/10\n",
            "1875/1875 [==============================] - 94s 50ms/step - loss: 0.0570 - accuracy: 0.9828 - val_loss: 0.0301 - val_accuracy: 0.9903\n",
            "Epoch 3/10\n",
            "1875/1875 [==============================] - 93s 49ms/step - loss: 0.0416 - accuracy: 0.9873 - val_loss: 0.0335 - val_accuracy: 0.9885\n",
            "Epoch 4/10\n",
            "1875/1875 [==============================] - 91s 49ms/step - loss: 0.0331 - accuracy: 0.9901 - val_loss: 0.0296 - val_accuracy: 0.9899\n",
            "Epoch 5/10\n",
            "1875/1875 [==============================] - 92s 49ms/step - loss: 0.0250 - accuracy: 0.9922 - val_loss: 0.0348 - val_accuracy: 0.9900\n",
            "Epoch 6/10\n",
            "1875/1875 [==============================] - 88s 47ms/step - loss: 0.0218 - accuracy: 0.9936 - val_loss: 0.0301 - val_accuracy: 0.9916\n",
            "Epoch 7/10\n",
            "1875/1875 [==============================] - 91s 49ms/step - loss: 0.0174 - accuracy: 0.9947 - val_loss: 0.0283 - val_accuracy: 0.9926\n",
            "Epoch 8/10\n",
            "1875/1875 [==============================] - 86s 46ms/step - loss: 0.0162 - accuracy: 0.9948 - val_loss: 0.0347 - val_accuracy: 0.9908\n",
            "Epoch 9/10\n",
            "1875/1875 [==============================] - 86s 46ms/step - loss: 0.0136 - accuracy: 0.9955 - val_loss: 0.0362 - val_accuracy: 0.9904\n",
            "Epoch 10/10\n",
            "1875/1875 [==============================] - 88s 47ms/step - loss: 0.0127 - accuracy: 0.9962 - val_loss: 0.0320 - val_accuracy: 0.9917\n"
          ]
        }
      ]
    },
    {
      "cell_type": "markdown",
      "source": [
        "# **Métricas da rede**"
      ],
      "metadata": {
        "id": "owIioHrzWAXt"
      }
    },
    {
      "cell_type": "code",
      "source": [
        "print(\"Evaluate model on test data\")\n",
        "results = model.evaluate(Xtest, Ytest, batch_size=128)\n",
        "print(\"test loss, test acc:\", results)\n",
        "\n",
        "plt.plot(history.history['loss'])\n",
        "plt.plot(history.history['val_loss'], label=\"val_loss\")\n",
        "plt.legend(['loss','val_loss'])\n",
        "plt.ylabel('Loss')\n",
        "plt.xlabel('Epochs')\n",
        "\n",
        "# plt.plot(history.history['accuracy'], label=\"accuracy\")\n",
        "# plt.plot(history.history['val_accuracy'], label=\"val_accuracy\")\n",
        "# plt.legend(['accuracy','val_accuracy'])\n",
        "# plt.ylabel('Accuracy')\n",
        "# plt.xlabel('Epochs')\n",
        "\n",
        "# plt.show()"
      ],
      "metadata": {
        "colab": {
          "base_uri": "https://localhost:8080/",
          "height": 520
        },
        "id": "YFQmhgYd8-pp",
        "outputId": "4a3046e5-0384-4f66-b3d4-16d005bf3184"
      },
      "execution_count": null,
      "outputs": [
        {
          "output_type": "stream",
          "name": "stdout",
          "text": [
            "Evaluate model on test data\n",
            "79/79 [==============================] - 6s 77ms/step - loss: 0.0320 - accuracy: 0.9917\n",
            "test loss, test acc: [0.032006893306970596, 0.9916999936103821]\n"
          ]
        },
        {
          "output_type": "execute_result",
          "data": {
            "text/plain": [
              "Text(0.5, 0, 'Epochs')"
            ]
          },
          "metadata": {},
          "execution_count": 75
        },
        {
          "output_type": "display_data",
          "data": {
            "text/plain": [
              "<Figure size 640x480 with 1 Axes>"
            ],
            "image/png": "[encoded data removed]"
          },
          "metadata": {}
        }
      ]
    },
    {
      "cell_type": "markdown",
      "source": [
        "# **Salvando o modelo**"
      ],
      "metadata": {
        "id": "ppwalihjdD4a"
      }
    },
    {
      "cell_type": "code",
      "source": [
        "model.save('DigitsCNN')"
      ],
      "metadata": {
        "colab": {
          "base_uri": "https://localhost:8080/"
        },
        "id": "GgCmBcrVcmIr",
        "outputId": "2ebf2837-c5bf-4144-d170-5c5351a27f20"
      },
      "execution_count": null,
      "outputs": [
        {
          "output_type": "stream",
          "name": "stderr",
          "text": [
            "WARNING:absl:Found untraced functions such as _jit_compiled_convolution_op, _jit_compiled_convolution_op, _jit_compiled_convolution_op, _update_step_xla while saving (showing 4 of 4). These functions will not be directly callable after loading.\n"
          ]
        }
      ]
    },
    {
      "cell_type": "markdown",
      "source": [
        "# **Carregando o modelo pré treinado**"
      ],
      "metadata": {
        "id": "EPLkk07idKHr"
      }
    },
    {
      "cell_type": "code",
      "source": [
        "# model = tf.keras.models.load_model('DigitsCNN')"
      ],
      "metadata": {
        "id": "mk2_zHh4dPcL"
      },
      "execution_count": null,
      "outputs": []
    },
    {
      "cell_type": "markdown",
      "source": [
        "# **Função que prepara a imagem dada pelo usuário para predição**"
      ],
      "metadata": {
        "id": "X4lnbrQeVR02"
      }
    },
    {
      "cell_type": "code",
      "source": [
        "def image_preprocess(image):\n",
        "  image = image[:,:,0]*0.2989 + image[:,:,1]*0.5870 + image[:,:,2]*0.1140\n",
        "  image = image / 255.0\n",
        "  image = np.array(image)\n",
        "  image = np.expand_dims(image,axis=0)\n",
        "\n",
        "  return image"
      ],
      "metadata": {
        "id": "oYTPIJ-fPP2n"
      },
      "execution_count": null,
      "outputs": []
    },
    {
      "cell_type": "markdown",
      "source": [
        "# **Detecção de dígitos manuscritos**"
      ],
      "metadata": {
        "id": "Ra2zPtq-U34j"
      }
    },
    {
      "cell_type": "code",
      "source": [
        "import imageio.v2 as imageio\n",
        "\n",
        "image_path = 'tres.png' #Insira aqui o caminho da imagem(ela deve ter fundo preto e o número escrito em branco e deve ser 28x28)\n",
        "image = imageio.imread(image_path)\n",
        "preprocessed_image = image_preprocess(image)\n",
        "\n",
        "prediction = model.predict(preprocessed_image)[0]\n",
        "best = prediction.argsort()[-3:][::-1]\n",
        "print(\"{:.2%} de chance de ser: {}\".format(prediction[best[0]], best[0]))\n",
        "print(\"{:.2%} de chance de ser: {}\".format(prediction[best[1]], best[1]))\n",
        "print(\"{:.2%} de chance de ser: {}\".format(prediction[best[2]], best[2]))\n",
        "\n",
        "plt.imshow(image, cmap=\"gray\")\n",
        "plt.show()"
      ],
      "metadata": {
        "colab": {
          "base_uri": "https://localhost:8080/",
          "height": 501
        },
        "id": "kYsXgI7pWSIA",
        "outputId": "a57d756f-a9d8-440f-ac3d-ee96586a8146"
      },
      "execution_count": null,
      "outputs": [
        {
          "output_type": "stream",
          "name": "stdout",
          "text": [
            "1/1 [==============================] - 0s 127ms/step\n",
            "100.00% de chance de ser: 3\n",
            "0.00% de chance de ser: 9\n",
            "0.00% de chance de ser: 2\n"
          ]
        },
        {
          "output_type": "display_data",
          "data": {
            "text/plain": [
              "<Figure size 640x480 with 1 Axes>"
            ],
            "image/png": "[encoded data removed]"
          },
          "metadata": {}
        }
      ]
    }
  ]
}